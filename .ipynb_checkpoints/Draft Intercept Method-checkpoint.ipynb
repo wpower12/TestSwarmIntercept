{
 "cells": [
  {
   "cell_type": "code",
   "execution_count": 5,
   "metadata": {},
   "outputs": [
    {
     "name": "stdout",
     "output_type": "stream",
     "text": [
      "[array([2., 2., 2.]), array([1.9, 1.9, 1.9]), array([1.8, 1.8, 1.8]), array([1.7, 1.7, 1.7]), array([1.6, 1.6, 1.6])]\n"
     ]
    }
   ],
   "source": [
    "import numpy as np\n",
    "\n",
    "WINDOW_SIZE = 5\n",
    "DT = 0.1\n",
    "INTERCEPT_SCALE = 1.0 # idk maybe\n",
    "\n",
    "V_BLUE_NOM = 1.75 # Nominal max magnitude of blue swarm - for prediction? We would know it?\n",
    "\n",
    "# For now, assuming we're just dealing with 'center points' then adjusting after the fact\n",
    "def generate_example_data_window(W, dt, v, x0):\n",
    "    data = []\n",
    "    for w in range(W):\n",
    "        data.append(x0+dt*v*w)\n",
    "    return data\n",
    "    \n",
    "swarm_red  = generate_example_data_window(WINDOW_SIZE, DT, np.asarray([1, 1, 1]), np.asarray([0, 0, 0]))\n",
    "swarm_blue = generate_example_data_window(WINDOW_SIZE, DT, np.asarray([-1, -1, -1]), np.asarray([2, 2, 2]))"
   ]
  },
  {
   "cell_type": "code",
   "execution_count": 17,
   "metadata": {},
   "outputs": [
    {
     "name": "stdout",
     "output_type": "stream",
     "text": [
      "[0.57735027 0.57735027 0.57735027]\n"
     ]
    }
   ],
   "source": [
    "#In a \"Real\" situation, we'd have a 'sample dt' to use to estimate v. Right now its hard to\n",
    "# disambugate this from the 'dt' used in the simulation. They're annoyinglly identical rn.\n",
    "\n",
    "# Also, again, assuming we are just dealing wit centers right now\n",
    "\n",
    "def get_v_from_W(swarm, sample_dt):\n",
    "    vel_diffs = []\n",
    "    for i in range(len(swarm)-1):\n",
    "        vel_diffs.append((swarm[i+1]-swarm[i])/sample_dt)\n",
    "    return np.asarray(vel_diffs).sum(axis=0)/(len(vel_diffs))\n",
    "\n",
    "def calc_possible_intercept(red, blue, dt):\n",
    "    v_red = get_v_from_W(red, dt)\n",
    "    \n",
    "    # Now we get the normalized v_red\n",
    "    norm_v_red = v_red/np.linalg.norm(v_red)\n",
    "    \n",
    "    # Use distnace between two swarms at most recent time step to\n",
    "    # define a 'time to hit if we just stayed here'. This is a rough\n",
    "    # estimate of the time scale needed to 'close' the distance \n",
    "    # between the swarms\n",
    "    t_hit_naieve = np.linalg.norm(red[0]-b[0])/V_BLUE_NOM\n",
    "    \n",
    "    \n",
    "    \n",
    "    return norm_v_red\n",
    "\n",
    "print(calc_possible_intercept(swarm_red, swarm_blue, DT))\n",
    "    "
   ]
  },
  {
   "cell_type": "code",
   "execution_count": null,
   "metadata": {},
   "outputs": [],
   "source": []
  }
 ],
 "metadata": {
  "kernelspec": {
   "display_name": "Python 3",
   "language": "python",
   "name": "python3"
  },
  "language_info": {
   "codemirror_mode": {
    "name": "ipython",
    "version": 3
   },
   "file_extension": ".py",
   "mimetype": "text/x-python",
   "name": "python",
   "nbconvert_exporter": "python",
   "pygments_lexer": "ipython3",
   "version": "3.7.0"
  }
 },
 "nbformat": 4,
 "nbformat_minor": 2
}
